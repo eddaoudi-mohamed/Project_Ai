{
 "cells": [
  {
   "cell_type": "code",
   "execution_count": 43,
   "metadata": {},
   "outputs": [
    {
     "name": "stdout",
     "output_type": "stream",
     "text": [
      "       cars  passings\n",
      "day1    BMW         3\n",
      "day2  Volvo         7\n",
      "day3   Ford         2\n"
     ]
    }
   ],
   "source": [
    "import pandas as pd\n",
    "df = pd.read_csv('data.csv')\n",
    "\n",
    "\n",
    "mydataset = {\n",
    "  'cars': [\"BMW\", \"Volvo\", \"Ford\"],\n",
    "  'passings': [3, 7, 2]\n",
    "}\n",
    "\n",
    "data = pd.DataFrame(mydataset , index = [\"day1\", \"day2\", \"day3\"])\n",
    "\n",
    "# print(data.loc[0:2])\n",
    "print(data)\n",
    "a = [1, 7, 2]\n",
    "series = pd.Series(a , index = [\"x\", \"y\", \"z\"])\n",
    "\n",
    "calories = {\"day1\": 420, \"day2\": 380, \"day3\": 390}\n",
    "myvar = pd.Series(calories, index = [\"day1\", \"day2\"])\n",
    "\n",
    "series2 = pd.Series(calories)\n",
    "\n"
   ]
  },
  {
   "cell_type": "code",
   "execution_count": 64,
   "metadata": {},
   "outputs": [
    {
     "name": "stdout",
     "output_type": "stream",
     "text": [
      "<class 'pandas.core.frame.DataFrame'>\n",
      "Index: 6 entries, 0 to 5\n",
      "Data columns (total 4 columns):\n",
      " #   Column    Non-Null Count  Dtype\n",
      "---  ------    --------------  -----\n",
      " 0   Duration  6 non-null      int64\n",
      " 1   Pulse     6 non-null      int64\n",
      " 2   Maxpulse  6 non-null      int64\n",
      " 3   Calories  6 non-null      int64\n",
      "dtypes: int64(4)\n",
      "memory usage: 240.0+ bytes\n",
      "None\n"
     ]
    }
   ],
   "source": [
    "import pandas as pd\n",
    "\n",
    "pd.options.display.max_rows = 60\n",
    "# data = pd.read_json('data.csv')\n",
    "\n",
    "data = {\n",
    "  \"Duration\":{\n",
    "    \"0\":60,\n",
    "    \"1\":60,\n",
    "    \"2\":60,\n",
    "    \"3\":45,\n",
    "    \"4\":45,\n",
    "    \"5\":60\n",
    "  },\n",
    "  \"Pulse\":{\n",
    "    \"0\":110,\n",
    "    \"1\":117,\n",
    "    \"2\":103,\n",
    "    \"3\":109,\n",
    "    \"4\":117,\n",
    "    \"5\":102\n",
    "  },\n",
    "  \"Maxpulse\":{\n",
    "    \"0\":130,\n",
    "    \"1\":145,\n",
    "    \"2\":135,\n",
    "    \"3\":175,\n",
    "    \"4\":148,\n",
    "    \"5\":127\n",
    "  },\n",
    "  \"Calories\":{\n",
    "    \"0\":409,\n",
    "    \"1\":479,\n",
    "    \"2\":340,\n",
    "    \"3\":282,\n",
    "    \"4\":406,\n",
    "    \"5\":300\n",
    "  }\n",
    "}\n",
    "\n",
    "df = pd.DataFrame(data)\n",
    "\n",
    "\n",
    "# print(df.head())\n",
    "# print(df.tail(3))\n",
    "\n",
    "print(df.info())\n"
   ]
  },
  {
   "cell_type": "code",
   "execution_count": null,
   "metadata": {},
   "outputs": [],
   "source": [
    "import pandas as pd \n",
    "\n",
    "data = pd.read_csv(\"data.csv\")\n",
    "\n",
    "\n",
    "\n",
    "# data[\"Calories\"].fillna(13000000, inplace = True) \n"
   ]
  },
  {
   "cell_type": "code",
   "execution_count": null,
   "metadata": {},
   "outputs": [],
   "source": [
    "import pandas as pd\n",
    "\n",
    "df = pd.read_csv('data.csv')\n",
    "\n",
    "# for x in df.index : \n",
    "#     if df.loc[x , \"Duration\"]>50 : \n",
    "#         df.drop(x , inplace=True)\n",
    "\n",
    "\n",
    "df.duplicated()\n",
    "df.drop_duplicates()"
   ]
  },
  {
   "cell_type": "code",
   "execution_count": 144,
   "metadata": {},
   "outputs": [
    {
     "name": "stdout",
     "output_type": "stream",
     "text": [
      "          Duration     Pulse  Maxpulse  Calories\n",
      "Duration  1.000000 -0.155408  0.009403  0.922721\n",
      "Pulse    -0.155408  1.000000  0.786535  0.025120\n",
      "Maxpulse  0.009403  0.786535  1.000000  0.203814\n",
      "Calories  0.922721  0.025120  0.203814  1.000000\n"
     ]
    }
   ],
   "source": [
    "import pandas as pd\n",
    "\n",
    "df = pd.read_csv('data.csv')\n",
    "\n",
    "print(df.corr())\n"
   ]
  },
  {
   "cell_type": "code",
   "execution_count": 158,
   "metadata": {},
   "outputs": [
    {
     "data": {
      "image/png": "[encoded data removed]",
      "text/plain": [
       "<Figure size 640x480 with 1 Axes>"
      ]
     },
     "metadata": {},
     "output_type": "display_data"
    }
   ],
   "source": [
    "import pandas as pd\n",
    "import matplotlib.pyplot as plt\n",
    "\n",
    "df = pd.read_csv('data.csv')\n",
    "\n",
    "# df.plot(kind = 'scatter', x = 'Maxpulse', y = 'Pulse')\n",
    "\n",
    "df[\"Pulse\"].plot(kind = 'hist')\n",
    "plt.show() "
   ]
  },
  {
   "cell_type": "code",
   "execution_count": 22,
   "metadata": {},
   "outputs": [
    {
     "name": "stdout",
     "output_type": "stream",
     "text": [
      "   index    price  area  bedrooms  bathrooms  stories mainroad guestroom  \\\n",
      "0    520  2450000  7700         2          1        1      yes        no   \n",
      "1    101  6230000  5500         3          1        3      yes        no   \n",
      "2    172  5250000  8400         3          1        2      yes       yes   \n",
      "3    528  2275000  3970         1          1        1       no        no   \n",
      "4     63  7035000  6360         4          2        3      yes        no   \n",
      "5    362  3710000  4050         2          1        1      yes        no   \n",
      "6    270  4340000  4500         3          2        3      yes        no   \n",
      "7    339  3885000  3180         4          2        2      yes        no   \n",
      "8    503  2660000  4000         3          1        1      yes        no   \n",
      "9    365  3703000  5450         2          1        1      yes        no   \n",
      "\n",
      "  basement hotwaterheating airconditioning  parking prefarea furnishingstatus  \n",
      "0       no              no              no        0       no      unfurnished  \n",
      "1       no              no              no        1      yes      unfurnished  \n",
      "2      yes              no             yes        2      yes      unfurnished  \n",
      "3       no              no              no        0       no      unfurnished  \n",
      "4       no              no             yes        2      yes        furnished  \n",
      "5       no              no              no        0       no        furnished  \n",
      "6       no             yes              no        1       no        furnished  \n",
      "7       no              no              no        0       no        furnished  \n",
      "8       no              no              no        0       no   semi-furnished  \n",
      "9       no              no              no        0       no        furnished  \n"
     ]
    }
   ],
   "source": [
    "import pandas as pd \n",
    "df = pd.read_csv('Data/Housing.csv')\n",
    "\n",
    "random_sample = df.sample(n=10).copy().reset_index()\n",
    "\n",
    "print(random_sample)\n"
   ]
  },
  {
   "cell_type": "code",
   "execution_count": null,
   "metadata": {},
   "outputs": [
    {
     "name": "stdout",
     "output_type": "stream",
     "text": [
      "4766729.247706422 4340000.0\n"
     ]
    }
   ],
   "source": [
    "import pandas as pd \n",
    "df = pd.read_csv('Housing.csv')\n",
    "# print(df.head(10))\n",
    "# print(df.shape)\n",
    "# print(df.dtypes)\n",
    "# print(df.select_dtypes(include=['int64' , 'float64']))\n",
    "\n",
    "newDF = df.select_dtypes(include=['int64' , 'float64']).columns\n",
    "\n",
    "# print(newDF.tolist())\n",
    "# print(df.info())\n",
    "\n",
    "# print(df.describe())\n",
    "\n",
    "# for x in df : \n",
    "#    if(x in newDF.tolist()) : \n",
    "#         print(x, \"premier quartile : \" ,  df[x].quantile(0.25) , \", troisième quartile : \" ,  df[x].quantile(0.75))\n",
    "\n",
    "\n",
    "print(df['price'].mean() , df['price'].median())"
   ]
  },
  {
   "cell_type": "code",
   "execution_count": 139,
   "metadata": {},
   "outputs": [
    {
     "name": "stdout",
     "output_type": "stream",
     "text": [
      "                 price\n",
      "bedrooms              \n",
      "5         5.819800e+06\n",
      "4         5.729758e+06\n",
      "3         4.954598e+06\n",
      "6         4.791500e+06\n",
      "2         3.632022e+06\n"
     ]
    }
   ],
   "source": [
    "import pandas as pd \n",
    "df = pd.read_csv('Housing.csv')\n",
    "\n",
    "# for x in df.select_dtypes(include=['object']).columns.tolist() : \n",
    "#     print(x, df[x].value_counts())\n",
    "\n",
    "# print(df.isnull().sum())\n",
    "\n",
    "\n",
    "# print(pd.DataFrame(df.groupby('area')['price'].mean()).sort_values('price' , ascending=False).head(5))\n",
    "\n",
    "# print(pd.DataFrame(df.groupby('furnishingstatus')['price'].mean()))\n",
    "\n",
    "\n",
    "filtered_df = df[(df[\"airconditioning\"] == \"yes\") & \n",
    "                 (df[\"basement\"] == \"yes\") & \n",
    "                 (df[\"mainroad\"] == \"yes\")]\n",
    "\n",
    "\n",
    "# print(filtered_df['price'].mean())\n",
    "\n",
    "print(pd.DataFrame(df.groupby('bedrooms')['price'].mean()).sort_values('price' , ascending=False).head(5))\n",
    "\n",
    "# print(df['price'].mean())"
   ]
  },
  {
   "cell_type": "code",
   "execution_count": null,
   "metadata": {},
   "outputs": [],
   "source": [
    "import seaborn as sb"
   ]
  }
 ],
 "metadata": {
  "kernelspec": {
   "display_name": "Python 3",
   "language": "python",
   "name": "python3"
  },
  "language_info": {
   "codemirror_mode": {
    "name": "ipython",
    "version": 3
   },
   "file_extension": ".py",
   "mimetype": "text/x-python",
   "name": "python",
   "nbconvert_exporter": "python",
   "pygments_lexer": "ipython3",
   "version": "3.11.5"
  }
 },
 "nbformat": 4,
 "nbformat_minor": 2
}
